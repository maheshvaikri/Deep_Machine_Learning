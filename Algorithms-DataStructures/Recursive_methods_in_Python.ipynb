{
 "cells": [
  {
   "cell_type": "markdown",
   "metadata": {},
   "source": [
    "## Add 0 - n number"
   ]
  },
  {
   "cell_type": "code",
   "execution_count": 1,
   "metadata": {},
   "outputs": [],
   "source": [
    "def rec_sum(n):\n",
    "    if n == 0:\n",
    "        return 0\n",
    "    return (n+rec_sum(n-1))"
   ]
  },
  {
   "cell_type": "code",
   "execution_count": 2,
   "metadata": {},
   "outputs": [
    {
     "data": {
      "text/plain": [
       "10"
      ]
     },
     "execution_count": 2,
     "metadata": {},
     "output_type": "execute_result"
    }
   ],
   "source": [
    "rec_sum(4)"
   ]
  },
  {
   "cell_type": "markdown",
   "metadata": {},
   "source": [
    "## Add each of the digits in the given number n = 4321 i.e. 4+3+2+1\n",
    "## by using Modulus operator %"
   ]
  },
  {
   "cell_type": "code",
   "execution_count": 3,
   "metadata": {},
   "outputs": [],
   "source": [
    "def sum_n(n):\n",
    "    if n == 0:\n",
    "        return 0\n",
    "   \n",
    "    return (n%10) +sum_n(int(n/10))"
   ]
  },
  {
   "cell_type": "code",
   "execution_count": 4,
   "metadata": {},
   "outputs": [
    {
     "data": {
      "text/plain": [
       "10"
      ]
     },
     "execution_count": 4,
     "metadata": {},
     "output_type": "execute_result"
    }
   ],
   "source": [
    "sum_n(4321)"
   ]
  },
  {
   "cell_type": "code",
   "execution_count": 5,
   "metadata": {},
   "outputs": [],
   "source": [
    "# listwords = [\"the\", \"ran\", \"man\"]\n",
    "# phrase = \"themanran\"\n",
    "# letterslist =tuple(phrase)\n",
    "# letterslist\n",
    "# len(phrase)\n",
    "# word=[]"
   ]
  },
  {
   "cell_type": "code",
   "execution_count": 16,
   "metadata": {},
   "outputs": [],
   "source": [
    "def word_split(phrase, listwords,output=None):\n",
    "    if output is None:\n",
    "        output = []\n",
    "    for word in listwords:\n",
    "        if phrase.startswith(word):\n",
    "            output.append(word)\n",
    "            print(len(word))\n",
    "            print(phrase[len(word):])\n",
    "            return word_split(phrase[len(word):],listwords,output)\n",
    "    return output"
   ]
  },
  {
   "cell_type": "code",
   "execution_count": 24,
   "metadata": {},
   "outputs": [
    {
     "name": "stdout",
     "output_type": "stream",
     "text": [
      "1\n",
      "lovedogsIknowJohn\n",
      "4\n",
      "dogsIknowJohn\n",
      "4\n",
      "IknowJohn\n",
      "1\n",
      "knowJohn\n",
      "4\n",
      "John\n",
      "4\n",
      "\n"
     ]
    },
    {
     "data": {
      "text/plain": [
       "['I', 'love', 'dogs', 'I', 'know', 'John']"
      ]
     },
     "execution_count": 24,
     "metadata": {},
     "output_type": "execute_result"
    }
   ],
   "source": [
    "\n",
    "word_split(phrase=\"IlovedogsIknowJohn\",listwords=[\"love\",\"I\",\"the\",\"dogs\",\"love\", \"ran\",\"me\",\"love\",\"know\", \"man\", \"I\", \"Josh\", \"John\"],output=None)"
   ]
  },
  {
   "cell_type": "code",
   "execution_count": null,
   "metadata": {
    "collapsed": true
   },
   "outputs": [],
   "source": []
  },
  {
   "cell_type": "code",
   "execution_count": null,
   "metadata": {
    "collapsed": true
   },
   "outputs": [],
   "source": []
  },
  {
   "cell_type": "code",
   "execution_count": null,
   "metadata": {
    "collapsed": true
   },
   "outputs": [],
   "source": []
  }
 ],
 "metadata": {
  "kernelspec": {
   "display_name": "Python 3",
   "language": "python",
   "name": "python3"
  },
  "language_info": {
   "codemirror_mode": {
    "name": "ipython",
    "version": 3
   },
   "file_extension": ".py",
   "mimetype": "text/x-python",
   "name": "python",
   "nbconvert_exporter": "python",
   "pygments_lexer": "ipython3",
   "version": "3.6.1"
  }
 },
 "nbformat": 4,
 "nbformat_minor": 2
}
